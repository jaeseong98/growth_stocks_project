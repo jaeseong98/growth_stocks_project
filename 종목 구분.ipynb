{
 "cells": [
  {
   "cell_type": "code",
   "execution_count": 1,
   "id": "cd86b1f7",
   "metadata": {},
   "outputs": [],
   "source": [
    "import seaborn as sns\n",
    "import pandas as pd\n",
    "import matplotlib.pyplot as plt"
   ]
  },
  {
   "cell_type": "code",
   "execution_count": 47,
   "id": "d398c1ca",
   "metadata": {},
   "outputs": [],
   "source": [
    "array = [[463,23],[41,219]]\n",
    "df_cm = pd.DataFrame(array, index = [\"Positive\",\"Negative\"], columns =  [\"Positive\",\"Negative\"])"
   ]
  },
  {
   "cell_type": "code",
   "execution_count": 48,
   "id": "35fee1d5",
   "metadata": {},
   "outputs": [],
   "source": [
    "pd.options.display.float_format = '{:.5f}'.format"
   ]
  },
  {
   "cell_type": "code",
   "execution_count": 49,
   "id": "53314059",
   "metadata": {},
   "outputs": [],
   "source": [
    "import numpy as np\n",
    "\n",
    "# 과학적 표기법 대신 소수점 6자리까지 나타낸다.\n",
    "np.set_printoptions(precision=6, suppress=True)"
   ]
  },
  {
   "cell_type": "code",
   "execution_count": 55,
   "id": "40231467",
   "metadata": {
    "scrolled": false
   },
   "outputs": [
    {
     "data": {
      "text/plain": [
       "Text(56.40625, 0.5, 'Predicted Label')"
      ]
     },
     "execution_count": 55,
     "metadata": {},
     "output_type": "execute_result"
    },
    {
     "data": {
      "image/png": "[encoded data removed]",
      "text/plain": [
       "<Figure size 720x504 with 2 Axes>"
      ]
     },
     "metadata": {
      "needs_background": "light"
     },
     "output_type": "display_data"
    }
   ],
   "source": [
    "import seaborn as sns\n",
    "import pandas as pd\n",
    "import matplotlib.pyplot as plt\n",
    "plt.figure(figsize = (10,7))\n",
    "sns.set(font_scale = 2)\n",
    "sns.heatmap(df_cm , annot = True,cmap = \"Blues\",fmt=\"d\",annot_kws={\"size\": 20})\n",
    "plt.title('Confusion Maxtrix')\n",
    "plt.xlabel(\"True Label\")\n",
    "plt.ylabel(\"Predicted Label\")\n",
    "\n"
   ]
  },
  {
   "cell_type": "code",
   "execution_count": 2,
   "id": "1e399e86",
   "metadata": {},
   "outputs": [],
   "source": [
    "import pandas as pd\n",
    "import xlwings as xw"
   ]
  },
  {
   "cell_type": "code",
   "execution_count": null,
   "id": "233280e9",
   "metadata": {},
   "outputs": [],
   "source": [
    "for kss import split_sentences \n",
    "\n",
    "s = \"text asdfkajsdflkasjdfklsdf..\"\n",
    "for sent in split_sentences(s):\n",
    "    print(sent)"
   ]
  },
  {
   "cell_type": "markdown",
   "id": "77ec75cd",
   "metadata": {},
   "source": [
    "## 데이터 불러오기"
   ]
  },
  {
   "cell_type": "code",
   "execution_count": 106,
   "id": "8719aaca",
   "metadata": {
    "scrolled": true
   },
   "outputs": [],
   "source": [
    "import pandas as pd\n",
    "import xlwings as xw\n",
    "df = xw.Book('예외케이스2.xlsx')\n",
    "df = df.sheets(1).used_range.options(pd.DataFrame,header=False).value\n",
    "# df2 = pd.read_excel('sentence_20220930_seonjin_2.xlsx',index_col =0)"
   ]
  },
  {
   "cell_type": "code",
   "execution_count": 107,
   "id": "803d4e98",
   "metadata": {},
   "outputs": [
    {
     "data": {
      "text/html": [
       "<div>\n",
       "<style scoped>\n",
       "    .dataframe tbody tr th:only-of-type {\n",
       "        vertical-align: middle;\n",
       "    }\n",
       "\n",
       "    .dataframe tbody tr th {\n",
       "        vertical-align: top;\n",
       "    }\n",
       "\n",
       "    .dataframe thead th {\n",
       "        text-align: right;\n",
       "    }\n",
       "</style>\n",
       "<table border=\"1\" class=\"dataframe\">\n",
       "  <thead>\n",
       "    <tr style=\"text-align: right;\">\n",
       "      <th></th>\n",
       "      <th>0</th>\n",
       "      <th>1</th>\n",
       "      <th>2</th>\n",
       "      <th>3</th>\n",
       "      <th>4</th>\n",
       "    </tr>\n",
       "  </thead>\n",
       "  <tbody>\n",
       "    <tr>\n",
       "      <th>198.0</th>\n",
       "      <td>348120000</td>\n",
       "      <td>2022-06-28 08:16:00</td>\n",
       "      <td>대우조선해양</td>\n",
       "      <td>한국테크놀로지(053590)는 대우조선해양(042660)에 35억원, 한국이노베이션...</td>\n",
       "      <td>0.0</td>\n",
       "    </tr>\n",
       "    <tr>\n",
       "      <th>237.0</th>\n",
       "      <td>371397711</td>\n",
       "      <td>2022-05-18 14:32:00</td>\n",
       "      <td>NH투자증권</td>\n",
       "      <td>케이아이엔엑스(093320)가 임직원 성과 보상을 위해 NH투자증권과 20억원 규모...</td>\n",
       "      <td>0.0</td>\n",
       "    </tr>\n",
       "    <tr>\n",
       "      <th>261.0</th>\n",
       "      <td>385475793</td>\n",
       "      <td>2022-06-24 10:31:00</td>\n",
       "      <td>DB금융투자</td>\n",
       "      <td>윌링스(313760)는 주가안정 및 주주가치 제고를 위해 DB금융투자와 20억원 규...</td>\n",
       "      <td>1.0</td>\n",
       "    </tr>\n",
       "    <tr>\n",
       "      <th>263.0</th>\n",
       "      <td>386779961</td>\n",
       "      <td>2022-06-24 10:00:00</td>\n",
       "      <td>삼성SDI</td>\n",
       "      <td>일진머티리얼즈는 삼성SDI와 이차전지 소재 장기공급 계약을 체결했다고 24일 공시했...</td>\n",
       "      <td>1.0</td>\n",
       "    </tr>\n",
       "    <tr>\n",
       "      <th>269.0</th>\n",
       "      <td>398095145</td>\n",
       "      <td>2022-05-30 18:15:00</td>\n",
       "      <td>인포마크</td>\n",
       "      <td>초록뱀헬스케어는 인공지능 및 5G 통신기기 전문기업 업체 인포마크의 주식 81만27...</td>\n",
       "      <td>0.0</td>\n",
       "    </tr>\n",
       "    <tr>\n",
       "      <th>...</th>\n",
       "      <td>...</td>\n",
       "      <td>...</td>\n",
       "      <td>...</td>\n",
       "      <td>...</td>\n",
       "      <td>...</td>\n",
       "    </tr>\n",
       "    <tr>\n",
       "      <th>279.0</th>\n",
       "      <td>870458554</td>\n",
       "      <td>2022-03-31 12:24:00</td>\n",
       "      <td>대상</td>\n",
       "      <td>지난해 대형 비장상주식회사 3천400여 곳 가운데 54곳이 외부감사인 주기적 지정 ...</td>\n",
       "      <td>0.0</td>\n",
       "    </tr>\n",
       "    <tr>\n",
       "      <th>282.0</th>\n",
       "      <td>871026137</td>\n",
       "      <td>2022-04-04 17:07:00</td>\n",
       "      <td>코스맥스</td>\n",
       "      <td>CJ온스타일은 화장품 개발·생산(ODM) 기업 코스맥스와 협업해 맞춤형 화장품 브랜...</td>\n",
       "      <td>0.0</td>\n",
       "    </tr>\n",
       "    <tr>\n",
       "      <th>318.0</th>\n",
       "      <td>873375834</td>\n",
       "      <td>2022-01-05 17:50:00</td>\n",
       "      <td>배럴</td>\n",
       "      <td>석유수출국기구(OPEC)와 러시아 등 비(非)OPEC 주요 산유국 협의체인 'OPE...</td>\n",
       "      <td>0.0</td>\n",
       "    </tr>\n",
       "    <tr>\n",
       "      <th>335.0</th>\n",
       "      <td>874788069</td>\n",
       "      <td>2022-09-29 11:30:00</td>\n",
       "      <td>아시아경제</td>\n",
       "      <td>브랜드 부문에서 아시아경제 대표상을 받은 한화건설은 국제학교가 다수 들어선 제주영어...</td>\n",
       "      <td>0.0</td>\n",
       "    </tr>\n",
       "    <tr>\n",
       "      <th>384.0</th>\n",
       "      <td>879042038</td>\n",
       "      <td>2022-01-02 17:28:00</td>\n",
       "      <td>대상</td>\n",
       "      <td>중소벤처기업부는 신종 코로나바이러스 감염증(코로나19) 사태로 피해를 본 저신용 소...</td>\n",
       "      <td>0.0</td>\n",
       "    </tr>\n",
       "  </tbody>\n",
       "</table>\n",
       "<p>341 rows × 5 columns</p>\n",
       "</div>"
      ],
      "text/plain": [
       "               0                   1       2  \\\n",
       "198.0  348120000 2022-06-28 08:16:00  대우조선해양   \n",
       "237.0  371397711 2022-05-18 14:32:00  NH투자증권   \n",
       "261.0  385475793 2022-06-24 10:31:00  DB금융투자   \n",
       "263.0  386779961 2022-06-24 10:00:00   삼성SDI   \n",
       "269.0  398095145 2022-05-30 18:15:00    인포마크   \n",
       "...          ...                 ...     ...   \n",
       "279.0  870458554 2022-03-31 12:24:00      대상   \n",
       "282.0  871026137 2022-04-04 17:07:00    코스맥스   \n",
       "318.0  873375834 2022-01-05 17:50:00      배럴   \n",
       "335.0  874788069 2022-09-29 11:30:00   아시아경제   \n",
       "384.0  879042038 2022-01-02 17:28:00      대상   \n",
       "\n",
       "                                                       3    4  \n",
       "198.0  한국테크놀로지(053590)는 대우조선해양(042660)에 35억원, 한국이노베이션...  0.0  \n",
       "237.0  케이아이엔엑스(093320)가 임직원 성과 보상을 위해 NH투자증권과 20억원 규모...  0.0  \n",
       "261.0  윌링스(313760)는 주가안정 및 주주가치 제고를 위해 DB금융투자와 20억원 규...  1.0  \n",
       "263.0  일진머티리얼즈는 삼성SDI와 이차전지 소재 장기공급 계약을 체결했다고 24일 공시했...  1.0  \n",
       "269.0  초록뱀헬스케어는 인공지능 및 5G 통신기기 전문기업 업체 인포마크의 주식 81만27...  0.0  \n",
       "...                                                  ...  ...  \n",
       "279.0  지난해 대형 비장상주식회사 3천400여 곳 가운데 54곳이 외부감사인 주기적 지정 ...  0.0  \n",
       "282.0  CJ온스타일은 화장품 개발·생산(ODM) 기업 코스맥스와 협업해 맞춤형 화장품 브랜...  0.0  \n",
       "318.0  석유수출국기구(OPEC)와 러시아 등 비(非)OPEC 주요 산유국 협의체인 'OPE...  0.0  \n",
       "335.0  브랜드 부문에서 아시아경제 대표상을 받은 한화건설은 국제학교가 다수 들어선 제주영어...  0.0  \n",
       "384.0  중소벤처기업부는 신종 코로나바이러스 감염증(코로나19) 사태로 피해를 본 저신용 소...  0.0  \n",
       "\n",
       "[341 rows x 5 columns]"
      ]
     },
     "execution_count": 107,
     "metadata": {},
     "output_type": "execute_result"
    }
   ],
   "source": [
    "df"
   ]
  },
  {
   "cell_type": "code",
   "execution_count": 108,
   "id": "edc2aa12",
   "metadata": {
    "scrolled": false
   },
   "outputs": [],
   "source": [
    "df.columns = ['NEWS_ID','STD_DT','COMPANY','NEWS_TEXT','LABEL']"
   ]
  },
  {
   "cell_type": "code",
   "execution_count": 109,
   "id": "5ddf065a",
   "metadata": {
    "scrolled": true
   },
   "outputs": [],
   "source": [
    "company = df['COMPANY'].unique()"
   ]
  },
  {
   "cell_type": "code",
   "execution_count": 110,
   "id": "8c356bc4",
   "metadata": {},
   "outputs": [
    {
     "data": {
      "text/plain": [
       "array(['대우조선해양', 'NH투자증권', 'DB금융투자', '삼성SDI', '인포마크', '메디톡스', 'SK하이닉스',\n",
       "       'KT', 'GS건설', '아모레퍼시픽', '대상', '삼성증권', '대신증권', 'SK텔레콤', '안국약품',\n",
       "       '현대백화점', '삼성전자', '배럴', '셀트리온헬스케어', 'SGC이테크건설', '팜스토리', '신영증권',\n",
       "       '엔켐', '하이브', '위메이드', '강원에너지', '노바렉스', '롯데케미칼', '남성', '픽셀플러스',\n",
       "       '줌인터넷', '휴메딕스', '위지윅스튜디오', 'LG디스플레이', 'LG전자', '현대비앤지스틸', '케이옥션',\n",
       "       '국보', 'LG', '한화', '동양', '시너지이노베이션', '삼성바이오로직스', 'SK', '현대중공업',\n",
       "       'KT&G', '그래디언트', '서울옥션', '유한양행', '파이버프로', '카카오', 'LG생활건강',\n",
       "       '현대오토에버', '이마트', '쌍용차', '엔비티', 'SOL 미국S&P500', '아이엠', '한국전력',\n",
       "       '현대차', '메가스터디', '테스', 'LG유플러스', '유진투자증권', '이노시스', '광동제약', 'SK증권',\n",
       "       '다날', '클리오', '제주맥주', '컴투스', '버킷스튜디오', '기아', '삼성생명', 'GS', '경동나비엔',\n",
       "       '삼성화재', '큐브엔터', '코웨이', 'SPC삼립', '케이피엠테크', 'DSR', '현대글로비스', '깨끗한나라',\n",
       "       '리드코프', '오이솔루션', '신흥', '인피니트헬스케어', '미래에셋증권', '이랜텍', '선진', 'LG화학',\n",
       "       '삼강엠앤티', '초록뱀미디어', '앱클론', '태양', '매일유업', '금호건설', '진도', '키움증권',\n",
       "       '신라젠', '신세계', '대한항공', '현대위아', '아이엘사이언스', '자이언트스텝', 'LG에너지솔루션',\n",
       "       '코스맥스', '아시아경제'], dtype=object)"
      ]
     },
     "execution_count": 110,
     "metadata": {},
     "output_type": "execute_result"
    }
   ],
   "source": [
    "company"
   ]
  },
  {
   "cell_type": "code",
   "execution_count": 42,
   "id": "c04b645c",
   "metadata": {},
   "outputs": [
    {
     "data": {
      "text/plain": [
       "'한국테크놀로지(053590)는 대우조선해양(042660)에 35억원, 한국이노베이션에 약 153억원 담보 제공을 결정했다고 28일 공시했다.담보제공재산은 대우조선해양건설 보통주이며 담보제공기간은 대우조선해양의 경우 이달 27일부터 오는 8월25일까지다. 한국이노베이션 채무에 대한 담보제공기간은 오는 7월4일까지 약 91억원이 담보 제공되며 약 62억원은 오는 8월4일까지 제공된다.'"
      ]
     },
     "execution_count": 42,
     "metadata": {},
     "output_type": "execute_result"
    }
   ],
   "source": [
    "df['NEWS_TEXT'].iloc[0].replace(\"\\\\n\",\"\")"
   ]
  },
  {
   "cell_type": "code",
   "execution_count": 43,
   "id": "c7230ae8",
   "metadata": {
    "scrolled": true
   },
   "outputs": [],
   "source": [
    "from nltk.tokenize import sent_tokenize\n",
    "text = df['NEWS_TEXT'].iloc[0].replace(\"\\\\n\",\" \")\n",
    "tokenized_text = sent_tokenize(text)"
   ]
  },
  {
   "cell_type": "code",
   "execution_count": 111,
   "id": "b66bb839",
   "metadata": {},
   "outputs": [],
   "source": [
    "text_list = []\n",
    "for i in df['NEWS_TEXT']:\n",
    "    text = i.replace(\"\\\\n\",\" \")\n",
    "    text_list.append(sent_tokenize(text))\n",
    "    \n",
    "# import itertools\n",
    "# text_list=list(itertools.chain.from_iterable(text_list))\n",
    "\n",
    "#comprehension 이용\n",
    "text_list=[element for array in text_list for element in array]"
   ]
  },
  {
   "cell_type": "code",
   "execution_count": 117,
   "id": "438ee7b9",
   "metadata": {},
   "outputs": [],
   "source": [
    "df_sen = pd.DataFrame({'NEWS_SENTENCE' : text_list})"
   ]
  },
  {
   "cell_type": "code",
   "execution_count": 118,
   "id": "d372193c",
   "metadata": {},
   "outputs": [
    {
     "data": {
      "text/html": [
       "<div>\n",
       "<style scoped>\n",
       "    .dataframe tbody tr th:only-of-type {\n",
       "        vertical-align: middle;\n",
       "    }\n",
       "\n",
       "    .dataframe tbody tr th {\n",
       "        vertical-align: top;\n",
       "    }\n",
       "\n",
       "    .dataframe thead th {\n",
       "        text-align: right;\n",
       "    }\n",
       "</style>\n",
       "<table border=\"1\" class=\"dataframe\">\n",
       "  <thead>\n",
       "    <tr style=\"text-align: right;\">\n",
       "      <th></th>\n",
       "      <th>NEWS_SENTENCE</th>\n",
       "    </tr>\n",
       "  </thead>\n",
       "  <tbody>\n",
       "    <tr>\n",
       "      <th>0</th>\n",
       "      <td>한국테크놀로지(053590)는 대우조선해양(042660)에 35억원, 한국이노베이션...</td>\n",
       "    </tr>\n",
       "    <tr>\n",
       "      <th>1</th>\n",
       "      <td>담보제공재산은 대우조선해양건설 보통주이며 담보제공기간은 대우조선해양의 경우 이달 2...</td>\n",
       "    </tr>\n",
       "    <tr>\n",
       "      <th>2</th>\n",
       "      <td>한국이노베이션 채무에 대한 담보제공기간은 오는 7월4일까지 약 91억원이 담보 제공...</td>\n",
       "    </tr>\n",
       "    <tr>\n",
       "      <th>3</th>\n",
       "      <td>케이아이엔엑스(093320)가 임직원 성과 보상을 위해 NH투자증권과 20억원 규모...</td>\n",
       "    </tr>\n",
       "    <tr>\n",
       "      <th>4</th>\n",
       "      <td>계약기간은 이날(18일)부터 오는 11월17일까지다.</td>\n",
       "    </tr>\n",
       "    <tr>\n",
       "      <th>...</th>\n",
       "      <td>...</td>\n",
       "    </tr>\n",
       "    <tr>\n",
       "      <th>3655</th>\n",
       "      <td>예를 들어 출생연도 끝자리가 3인 경우 3일, 8인 경우 8일에 신청할 수 있다.</td>\n",
       "    </tr>\n",
       "    <tr>\n",
       "      <th>3656</th>\n",
       "      <td>오는 13일부터는 출생연도 끝자리와 관계없이 신청할 수 있다.</td>\n",
       "    </tr>\n",
       "    <tr>\n",
       "      <th>3657</th>\n",
       "      <td>만약 신청 추이에 따라 10부제를 한 번 더 실시하게 될 경우 정책자금 누리집을 통...</td>\n",
       "    </tr>\n",
       "    <tr>\n",
       "      <th>3658</th>\n",
       "      <td>접수 시간은 10부제 기간에는 매일 오전 9시부터 자정까지이며 10부제가 종료되는 ...</td>\n",
       "    </tr>\n",
       "    <tr>\n",
       "      <th>3659</th>\n",
       "      <td>한편 중기부는 지역신보 특례보증 등을 통한 코로나19 피해 중신용 이상 소상공인에 ...</td>\n",
       "    </tr>\n",
       "  </tbody>\n",
       "</table>\n",
       "<p>3660 rows × 1 columns</p>\n",
       "</div>"
      ],
      "text/plain": [
       "                                          NEWS_SENTENCE\n",
       "0     한국테크놀로지(053590)는 대우조선해양(042660)에 35억원, 한국이노베이션...\n",
       "1     담보제공재산은 대우조선해양건설 보통주이며 담보제공기간은 대우조선해양의 경우 이달 2...\n",
       "2     한국이노베이션 채무에 대한 담보제공기간은 오는 7월4일까지 약 91억원이 담보 제공...\n",
       "3     케이아이엔엑스(093320)가 임직원 성과 보상을 위해 NH투자증권과 20억원 규모...\n",
       "4                         계약기간은 이날(18일)부터 오는 11월17일까지다.\n",
       "...                                                 ...\n",
       "3655      예를 들어 출생연도 끝자리가 3인 경우 3일, 8인 경우 8일에 신청할 수 있다.\n",
       "3656                 오는 13일부터는 출생연도 끝자리와 관계없이 신청할 수 있다.\n",
       "3657  만약 신청 추이에 따라 10부제를 한 번 더 실시하게 될 경우 정책자금 누리집을 통...\n",
       "3658  접수 시간은 10부제 기간에는 매일 오전 9시부터 자정까지이며 10부제가 종료되는 ...\n",
       "3659  한편 중기부는 지역신보 특례보증 등을 통한 코로나19 피해 중신용 이상 소상공인에 ...\n",
       "\n",
       "[3660 rows x 1 columns]"
      ]
     },
     "execution_count": 118,
     "metadata": {},
     "output_type": "execute_result"
    }
   ],
   "source": [
    "df_sen"
   ]
  },
  {
   "cell_type": "code",
   "execution_count": 119,
   "id": "87a8df85",
   "metadata": {},
   "outputs": [],
   "source": [
    "def is_company(text):\n",
    "    \"\"\"\n",
    "    문장에 NER 태깅시 필요한 단어가 존재할 경우 true 반환\n",
    "    @param text - 필터링할 텍스트\n",
    "    \"\"\"\n",
    "    stopwords = list(company)\n",
    "    if any(keyword in text for keyword in stopwords):\n",
    "        return True\n",
    "    return False\n",
    "sentence = list(filter(is_company, df_sen['NEWS_SENTENCE']))"
   ]
  },
  {
   "cell_type": "code",
   "execution_count": 120,
   "id": "5bae3c59",
   "metadata": {},
   "outputs": [],
   "source": [
    "df = pd.DataFrame({'SENTENCE_TEXT' : sentence})"
   ]
  },
  {
   "cell_type": "code",
   "execution_count": 121,
   "id": "134f6e48",
   "metadata": {},
   "outputs": [
    {
     "data": {
      "text/html": [
       "<div>\n",
       "<style scoped>\n",
       "    .dataframe tbody tr th:only-of-type {\n",
       "        vertical-align: middle;\n",
       "    }\n",
       "\n",
       "    .dataframe tbody tr th {\n",
       "        vertical-align: top;\n",
       "    }\n",
       "\n",
       "    .dataframe thead th {\n",
       "        text-align: right;\n",
       "    }\n",
       "</style>\n",
       "<table border=\"1\" class=\"dataframe\">\n",
       "  <thead>\n",
       "    <tr style=\"text-align: right;\">\n",
       "      <th></th>\n",
       "      <th>SENTENCE_TEXT</th>\n",
       "    </tr>\n",
       "  </thead>\n",
       "  <tbody>\n",
       "    <tr>\n",
       "      <th>0</th>\n",
       "      <td>한국테크놀로지(053590)는 대우조선해양(042660)에 35억원, 한국이노베이션...</td>\n",
       "    </tr>\n",
       "    <tr>\n",
       "      <th>1</th>\n",
       "      <td>담보제공재산은 대우조선해양건설 보통주이며 담보제공기간은 대우조선해양의 경우 이달 2...</td>\n",
       "    </tr>\n",
       "    <tr>\n",
       "      <th>2</th>\n",
       "      <td>케이아이엔엑스(093320)가 임직원 성과 보상을 위해 NH투자증권과 20억원 규모...</td>\n",
       "    </tr>\n",
       "    <tr>\n",
       "      <th>3</th>\n",
       "      <td>윌링스(313760)는 주가안정 및 주주가치 제고를 위해 DB금융투자와 20억원 규...</td>\n",
       "    </tr>\n",
       "    <tr>\n",
       "      <th>4</th>\n",
       "      <td>일진머티리얼즈는 삼성SDI와 이차전지 소재 장기공급 계약을 체결했다고 24일 공시했다.</td>\n",
       "    </tr>\n",
       "    <tr>\n",
       "      <th>...</th>\n",
       "      <td>...</td>\n",
       "    </tr>\n",
       "    <tr>\n",
       "      <th>1036</th>\n",
       "      <td>국내 최고 수준의 교육환경을 바탕으로 제주 내 신흥부촌으로 떠오른 제주영어교육도시와...</td>\n",
       "    </tr>\n",
       "    <tr>\n",
       "      <th>1037</th>\n",
       "      <td>한화건설 이중석 분양소장은 \"포레나 제주 에듀시티는 신흥주거지로 떠오르고 있는 제주...</td>\n",
       "    </tr>\n",
       "    <tr>\n",
       "      <th>1038</th>\n",
       "      <td>중소벤처기업부는 신종 코로나바이러스 감염증(코로나19) 사태로 피해를 본 저신용 소...</td>\n",
       "    </tr>\n",
       "    <tr>\n",
       "      <th>1039</th>\n",
       "      <td>지난해 12월27일 이후 소상공인 방역지원금(100만원)을 받은 소상공인 중 저신용...</td>\n",
       "    </tr>\n",
       "    <tr>\n",
       "      <th>1040</th>\n",
       "      <td>세금체납, 금융기관 연체, 휴·폐업 중인 소상공인도 지원 대상에서 제외된다.</td>\n",
       "    </tr>\n",
       "  </tbody>\n",
       "</table>\n",
       "<p>1041 rows × 1 columns</p>\n",
       "</div>"
      ],
      "text/plain": [
       "                                          SENTENCE_TEXT\n",
       "0     한국테크놀로지(053590)는 대우조선해양(042660)에 35억원, 한국이노베이션...\n",
       "1     담보제공재산은 대우조선해양건설 보통주이며 담보제공기간은 대우조선해양의 경우 이달 2...\n",
       "2     케이아이엔엑스(093320)가 임직원 성과 보상을 위해 NH투자증권과 20억원 규모...\n",
       "3     윌링스(313760)는 주가안정 및 주주가치 제고를 위해 DB금융투자와 20억원 규...\n",
       "4      일진머티리얼즈는 삼성SDI와 이차전지 소재 장기공급 계약을 체결했다고 24일 공시했다.\n",
       "...                                                 ...\n",
       "1036  국내 최고 수준의 교육환경을 바탕으로 제주 내 신흥부촌으로 떠오른 제주영어교육도시와...\n",
       "1037  한화건설 이중석 분양소장은 \"포레나 제주 에듀시티는 신흥주거지로 떠오르고 있는 제주...\n",
       "1038  중소벤처기업부는 신종 코로나바이러스 감염증(코로나19) 사태로 피해를 본 저신용 소...\n",
       "1039  지난해 12월27일 이후 소상공인 방역지원금(100만원)을 받은 소상공인 중 저신용...\n",
       "1040         세금체납, 금융기관 연체, 휴·폐업 중인 소상공인도 지원 대상에서 제외된다.\n",
       "\n",
       "[1041 rows x 1 columns]"
      ]
     },
     "execution_count": 121,
     "metadata": {},
     "output_type": "execute_result"
    }
   ],
   "source": [
    "df"
   ]
  },
  {
   "cell_type": "code",
   "execution_count": 50,
   "id": "52a177fe",
   "metadata": {
    "scrolled": true
   },
   "outputs": [
    {
     "data": {
      "text/plain": [
       "[]"
      ]
     },
     "execution_count": 50,
     "metadata": {},
     "output_type": "execute_result"
    }
   ],
   "source": [
    "def is_company(text):\n",
    "    \"\"\"\n",
    "    문장에 NER 태깅시 필요한 단어가 존재할 경우 true 반환\n",
    "    @param text - 필터링할 텍스트\n",
    "    \"\"\"\n",
    "    #stopwords = ['BODY_TXT','뉴스', '기자', '저작권', '재배포'] news\n",
    "    stopwords = ['유니온', '전방', '국보', '동양', '대상', '혜인', '남성', '한창', '신흥', '대교', '동서', 'DB', 'CS', '서산', '선진', '레이', '나노', '태양', '진도', '보령', '러셀', '배럴', '서남', '신원', '금양', '엔켐', '크래프톤' ] \n",
    "    \n",
    "    if any(keyword in text for keyword in stopwords):\n",
    "        return True\n",
    "    return False\n",
    "sentences = list(filter(is_company, df.iloc[0]['SENTENCE_TEXT']))\n",
    "sentences"
   ]
  },
  {
   "cell_type": "code",
   "execution_count": 83,
   "id": "319a34f1",
   "metadata": {},
   "outputs": [],
   "source": [
    "df = pd.DataFrame({\"TEXT\": sentences})\n",
    "df.to_excel('seosan_plus.xlsx')"
   ]
  },
  {
   "cell_type": "code",
   "execution_count": null,
   "id": "32655d46",
   "metadata": {},
   "outputs": [],
   "source": [
    "import nltk\n",
    "nltk.download(\"book\", quiet=True)\n",
    "from nltk.book import *"
   ]
  },
  {
   "cell_type": "code",
   "execution_count": null,
   "id": "041a6adb",
   "metadata": {},
   "outputs": [],
   "source": [
    "from nltk.tokenize import sent_tokenize"
   ]
  },
  {
   "cell_type": "code",
   "execution_count": null,
   "id": "27fa1dbb",
   "metadata": {},
   "outputs": [],
   "source": [
    "from nltk.tokenize import RegexpTokenizer\n",
    "retokenize = RegexpTokenizer(\"[\\w]+\")"
   ]
  },
  {
   "cell_type": "code",
   "execution_count": 122,
   "id": "8a22dbad",
   "metadata": {},
   "outputs": [],
   "source": [
    "import re\n",
    "def xplit(*delimiters):\n",
    "    return lambda value: re.split('|'.join([re.escape(delimiter) for delimiter in delimiters]), value)\n",
    "\n",
    "def texttosentences(text):\n",
    "    # sentences = self.kkma.sentences(text)\n",
    "    sentences = []\n",
    "    if len(text) != 0:\n",
    "        sentences = xplit(' ')(text)\n",
    "        sentences = list(filter(None, sentences))\n",
    "        return sentences"
   ]
  },
  {
   "cell_type": "code",
   "execution_count": 123,
   "id": "74af2587",
   "metadata": {},
   "outputs": [],
   "source": [
    "df['test'] = df['SENTENCE_TEXT'].apply(texttosentences)"
   ]
  },
  {
   "cell_type": "code",
   "execution_count": 124,
   "id": "56a324ea",
   "metadata": {},
   "outputs": [
    {
     "data": {
      "text/plain": [
       "0       [한국테크놀로지(053590)는, 대우조선해양(042660)에, 35억원,, 한국이...\n",
       "1       [담보제공재산은, 대우조선해양건설, 보통주이며, 담보제공기간은, 대우조선해양의, 경...\n",
       "2       [케이아이엔엑스(093320)가, 임직원, 성과, 보상을, 위해, NH투자증권과, ...\n",
       "3       [윌링스(313760)는, 주가안정, 및, 주주가치, 제고를, 위해, DB금융투자와...\n",
       "4       [일진머티리얼즈는, 삼성SDI와, 이차전지, 소재, 장기공급, 계약을, 체결했다고,...\n",
       "                              ...                        \n",
       "1036    [국내, 최고, 수준의, 교육환경을, 바탕으로, 제주, 내, 신흥부촌으로, 떠오른,...\n",
       "1037    [한화건설, 이중석, 분양소장은, \"포레나, 제주, 에듀시티는, 신흥주거지로, 떠오...\n",
       "1038    [중소벤처기업부는, 신종, 코로나바이러스, 감염증(코로나19), 사태로, 피해를, ...\n",
       "1039    [지난해, 12월27일, 이후, 소상공인, 방역지원금(100만원)을, 받은, 소상공...\n",
       "1040    [세금체납,, 금융기관, 연체,, 휴·폐업, 중인, 소상공인도, 지원, 대상에서, ...\n",
       "Name: test, Length: 1041, dtype: object"
      ]
     },
     "execution_count": 124,
     "metadata": {},
     "output_type": "execute_result"
    }
   ],
   "source": [
    "df['test']"
   ]
  },
  {
   "cell_type": "markdown",
   "id": "d51e128a",
   "metadata": {},
   "source": [
    "여러 기업 'X'처리"
   ]
  },
  {
   "cell_type": "code",
   "execution_count": 134,
   "id": "f061a49f",
   "metadata": {
    "scrolled": true
   },
   "outputs": [],
   "source": [
    "def processing(row,stock_name_list):\n",
    "    label = ['O']*len(row)\n",
    "    for i,j in enumerate(row):\n",
    "        for s in stock_name_list:\n",
    "            if s in j:\n",
    "                label[i] = 'X'\n",
    "            if '정부' in j :\n",
    "                label[i] = 'ORG-B'\n",
    "    return label\n",
    "\n",
    "\n",
    "\n",
    "# lists = ['유니온', '전방', '국보', '동양', '대상', '혜인', '남성', '한창', '신흥', '대교', '동서', 'DB', 'CS', '서산', '선진', '레이', '나노', '태양', '진도', '보령', '러셀', '배럴', '서남', '신원', '금양', '엔켐', '크래프톤' ] \n",
    "\n",
    "df['result'] = df['test'].apply(lambda x : processing(x,list(company)))"
   ]
  },
  {
   "cell_type": "code",
   "execution_count": 135,
   "id": "429540c8",
   "metadata": {},
   "outputs": [
    {
     "data": {
      "text/html": [
       "<div>\n",
       "<style scoped>\n",
       "    .dataframe tbody tr th:only-of-type {\n",
       "        vertical-align: middle;\n",
       "    }\n",
       "\n",
       "    .dataframe tbody tr th {\n",
       "        vertical-align: top;\n",
       "    }\n",
       "\n",
       "    .dataframe thead th {\n",
       "        text-align: right;\n",
       "    }\n",
       "</style>\n",
       "<table border=\"1\" class=\"dataframe\">\n",
       "  <thead>\n",
       "    <tr style=\"text-align: right;\">\n",
       "      <th></th>\n",
       "      <th>SENTENCE_TEXT</th>\n",
       "      <th>test</th>\n",
       "      <th>result</th>\n",
       "    </tr>\n",
       "  </thead>\n",
       "  <tbody>\n",
       "    <tr>\n",
       "      <th>0</th>\n",
       "      <td>한국테크놀로지(053590)는 대우조선해양(042660)에 35억원, 한국이노베이션...</td>\n",
       "      <td>[한국테크놀로지(053590)는, 대우조선해양(042660)에, 35억원,, 한국이...</td>\n",
       "      <td>[O, X, O, O, O, O, O, O, O, O, O]</td>\n",
       "    </tr>\n",
       "    <tr>\n",
       "      <th>1</th>\n",
       "      <td>담보제공재산은 대우조선해양건설 보통주이며 담보제공기간은 대우조선해양의 경우 이달 2...</td>\n",
       "      <td>[담보제공재산은, 대우조선해양건설, 보통주이며, 담보제공기간은, 대우조선해양의, 경...</td>\n",
       "      <td>[O, X, O, O, X, O, O, O, O, O]</td>\n",
       "    </tr>\n",
       "    <tr>\n",
       "      <th>2</th>\n",
       "      <td>케이아이엔엑스(093320)가 임직원 성과 보상을 위해 NH투자증권과 20억원 규모...</td>\n",
       "      <td>[케이아이엔엑스(093320)가, 임직원, 성과, 보상을, 위해, NH투자증권과, ...</td>\n",
       "      <td>[O, O, O, O, O, X, O, O, O, O, O, O, O]</td>\n",
       "    </tr>\n",
       "    <tr>\n",
       "      <th>3</th>\n",
       "      <td>윌링스(313760)는 주가안정 및 주주가치 제고를 위해 DB금융투자와 20억원 규...</td>\n",
       "      <td>[윌링스(313760)는, 주가안정, 및, 주주가치, 제고를, 위해, DB금융투자와...</td>\n",
       "      <td>[O, O, O, O, O, O, X, O, O, O, O, O, O, O, O]</td>\n",
       "    </tr>\n",
       "    <tr>\n",
       "      <th>4</th>\n",
       "      <td>일진머티리얼즈는 삼성SDI와 이차전지 소재 장기공급 계약을 체결했다고 24일 공시했다.</td>\n",
       "      <td>[일진머티리얼즈는, 삼성SDI와, 이차전지, 소재, 장기공급, 계약을, 체결했다고,...</td>\n",
       "      <td>[O, X, O, O, O, O, O, O, O]</td>\n",
       "    </tr>\n",
       "    <tr>\n",
       "      <th>...</th>\n",
       "      <td>...</td>\n",
       "      <td>...</td>\n",
       "      <td>...</td>\n",
       "    </tr>\n",
       "    <tr>\n",
       "      <th>1036</th>\n",
       "      <td>국내 최고 수준의 교육환경을 바탕으로 제주 내 신흥부촌으로 떠오른 제주영어교육도시와...</td>\n",
       "      <td>[국내, 최고, 수준의, 교육환경을, 바탕으로, 제주, 내, 신흥부촌으로, 떠오른,...</td>\n",
       "      <td>[O, O, O, O, O, O, O, X, O, O, O, O, O, O, O, O]</td>\n",
       "    </tr>\n",
       "    <tr>\n",
       "      <th>1037</th>\n",
       "      <td>한화건설 이중석 분양소장은 \"포레나 제주 에듀시티는 신흥주거지로 떠오르고 있는 제주...</td>\n",
       "      <td>[한화건설, 이중석, 분양소장은, \"포레나, 제주, 에듀시티는, 신흥주거지로, 떠오...</td>\n",
       "      <td>[X, O, O, O, O, O, X, O, O, O, O, O, O, O, O, ...</td>\n",
       "    </tr>\n",
       "    <tr>\n",
       "      <th>1038</th>\n",
       "      <td>중소벤처기업부는 신종 코로나바이러스 감염증(코로나19) 사태로 피해를 본 저신용 소...</td>\n",
       "      <td>[중소벤처기업부는, 신종, 코로나바이러스, 감염증(코로나19), 사태로, 피해를, ...</td>\n",
       "      <td>[O, O, O, O, O, O, O, O, O, X, O, O, O, O, O, ...</td>\n",
       "    </tr>\n",
       "    <tr>\n",
       "      <th>1039</th>\n",
       "      <td>지난해 12월27일 이후 소상공인 방역지원금(100만원)을 받은 소상공인 중 저신용...</td>\n",
       "      <td>[지난해, 12월27일, 이후, 소상공인, 방역지원금(100만원)을, 받은, 소상공...</td>\n",
       "      <td>[O, O, O, O, O, O, O, O, O, O, O, O, O, O, O, ...</td>\n",
       "    </tr>\n",
       "    <tr>\n",
       "      <th>1040</th>\n",
       "      <td>세금체납, 금융기관 연체, 휴·폐업 중인 소상공인도 지원 대상에서 제외된다.</td>\n",
       "      <td>[세금체납,, 금융기관, 연체,, 휴·폐업, 중인, 소상공인도, 지원, 대상에서, ...</td>\n",
       "      <td>[O, O, O, O, O, O, O, X, O]</td>\n",
       "    </tr>\n",
       "  </tbody>\n",
       "</table>\n",
       "<p>1041 rows × 3 columns</p>\n",
       "</div>"
      ],
      "text/plain": [
       "                                          SENTENCE_TEXT  \\\n",
       "0     한국테크놀로지(053590)는 대우조선해양(042660)에 35억원, 한국이노베이션...   \n",
       "1     담보제공재산은 대우조선해양건설 보통주이며 담보제공기간은 대우조선해양의 경우 이달 2...   \n",
       "2     케이아이엔엑스(093320)가 임직원 성과 보상을 위해 NH투자증권과 20억원 규모...   \n",
       "3     윌링스(313760)는 주가안정 및 주주가치 제고를 위해 DB금융투자와 20억원 규...   \n",
       "4      일진머티리얼즈는 삼성SDI와 이차전지 소재 장기공급 계약을 체결했다고 24일 공시했다.   \n",
       "...                                                 ...   \n",
       "1036  국내 최고 수준의 교육환경을 바탕으로 제주 내 신흥부촌으로 떠오른 제주영어교육도시와...   \n",
       "1037  한화건설 이중석 분양소장은 \"포레나 제주 에듀시티는 신흥주거지로 떠오르고 있는 제주...   \n",
       "1038  중소벤처기업부는 신종 코로나바이러스 감염증(코로나19) 사태로 피해를 본 저신용 소...   \n",
       "1039  지난해 12월27일 이후 소상공인 방역지원금(100만원)을 받은 소상공인 중 저신용...   \n",
       "1040         세금체납, 금융기관 연체, 휴·폐업 중인 소상공인도 지원 대상에서 제외된다.   \n",
       "\n",
       "                                                   test  \\\n",
       "0     [한국테크놀로지(053590)는, 대우조선해양(042660)에, 35억원,, 한국이...   \n",
       "1     [담보제공재산은, 대우조선해양건설, 보통주이며, 담보제공기간은, 대우조선해양의, 경...   \n",
       "2     [케이아이엔엑스(093320)가, 임직원, 성과, 보상을, 위해, NH투자증권과, ...   \n",
       "3     [윌링스(313760)는, 주가안정, 및, 주주가치, 제고를, 위해, DB금융투자와...   \n",
       "4     [일진머티리얼즈는, 삼성SDI와, 이차전지, 소재, 장기공급, 계약을, 체결했다고,...   \n",
       "...                                                 ...   \n",
       "1036  [국내, 최고, 수준의, 교육환경을, 바탕으로, 제주, 내, 신흥부촌으로, 떠오른,...   \n",
       "1037  [한화건설, 이중석, 분양소장은, \"포레나, 제주, 에듀시티는, 신흥주거지로, 떠오...   \n",
       "1038  [중소벤처기업부는, 신종, 코로나바이러스, 감염증(코로나19), 사태로, 피해를, ...   \n",
       "1039  [지난해, 12월27일, 이후, 소상공인, 방역지원금(100만원)을, 받은, 소상공...   \n",
       "1040  [세금체납,, 금융기관, 연체,, 휴·폐업, 중인, 소상공인도, 지원, 대상에서, ...   \n",
       "\n",
       "                                                 result  \n",
       "0                     [O, X, O, O, O, O, O, O, O, O, O]  \n",
       "1                        [O, X, O, O, X, O, O, O, O, O]  \n",
       "2               [O, O, O, O, O, X, O, O, O, O, O, O, O]  \n",
       "3         [O, O, O, O, O, O, X, O, O, O, O, O, O, O, O]  \n",
       "4                           [O, X, O, O, O, O, O, O, O]  \n",
       "...                                                 ...  \n",
       "1036   [O, O, O, O, O, O, O, X, O, O, O, O, O, O, O, O]  \n",
       "1037  [X, O, O, O, O, O, X, O, O, O, O, O, O, O, O, ...  \n",
       "1038  [O, O, O, O, O, O, O, O, O, X, O, O, O, O, O, ...  \n",
       "1039  [O, O, O, O, O, O, O, O, O, O, O, O, O, O, O, ...  \n",
       "1040                        [O, O, O, O, O, O, O, X, O]  \n",
       "\n",
       "[1041 rows x 3 columns]"
      ]
     },
     "execution_count": 135,
     "metadata": {},
     "output_type": "execute_result"
    }
   ],
   "source": [
    "df"
   ]
  },
  {
   "cell_type": "markdown",
   "id": "9515b0c8",
   "metadata": {},
   "source": [
    "한 기업 'X' 처리"
   ]
  },
  {
   "cell_type": "code",
   "execution_count": 22,
   "id": "ee34ff4a",
   "metadata": {},
   "outputs": [],
   "source": [
    "def processing_2(row,stock_name_list):\n",
    "    result = []\n",
    "    for j in row:\n",
    "        if j in row:\n",
    "            result.append('X')\n",
    "        else:\n",
    "            result.append('O')\n",
    "    return result\n",
    "df['result'] = df['test'].apply(lambda x : processing(x,'대상')) ## 기업 이름 삽입"
   ]
  },
  {
   "cell_type": "code",
   "execution_count": 23,
   "id": "0e44cdc0",
   "metadata": {
    "scrolled": true
   },
   "outputs": [
    {
     "data": {
      "text/plain": [
       "0                       [O, X, O, O, O, O, O, O, O, O, O]\n",
       "1                          [O, X, O, O, X, O, O, O, O, O]\n",
       "2                 [O, O, O, X, O, O, O, O, O, O, O, O, O]\n",
       "3           [O, O, O, O, O, O, O, O, O, O, O, O, O, O, O]\n",
       "4                             [O, O, O, O, O, O, O, O, O]\n",
       "                              ...                        \n",
       "1036     [O, O, O, O, O, O, O, O, O, O, O, O, O, O, O, X]\n",
       "1037    [O, O, O, O, O, O, O, O, O, O, O, O, O, O, O, ...\n",
       "1038    [O, O, O, O, O, O, O, O, X, X, X, O, O, O, O, ...\n",
       "1039    [O, O, O, X, O, O, X, O, O, O, O, O, O, O, O, ...\n",
       "1040                          [O, O, O, O, O, X, O, X, O]\n",
       "Name: result, Length: 1041, dtype: object"
      ]
     },
     "execution_count": 23,
     "metadata": {},
     "output_type": "execute_result"
    }
   ],
   "source": [
    "df['result']"
   ]
  },
  {
   "cell_type": "code",
   "execution_count": 136,
   "id": "2b0f4e16",
   "metadata": {},
   "outputs": [],
   "source": [
    "df['result'] = df['result'].apply(lambda x : \" \".join(x))"
   ]
  },
  {
   "cell_type": "code",
   "execution_count": 137,
   "id": "877957de",
   "metadata": {},
   "outputs": [
    {
     "data": {
      "text/html": [
       "<div>\n",
       "<style scoped>\n",
       "    .dataframe tbody tr th:only-of-type {\n",
       "        vertical-align: middle;\n",
       "    }\n",
       "\n",
       "    .dataframe tbody tr th {\n",
       "        vertical-align: top;\n",
       "    }\n",
       "\n",
       "    .dataframe thead th {\n",
       "        text-align: right;\n",
       "    }\n",
       "</style>\n",
       "<table border=\"1\" class=\"dataframe\">\n",
       "  <thead>\n",
       "    <tr style=\"text-align: right;\">\n",
       "      <th></th>\n",
       "      <th>SENTENCE_TEXT</th>\n",
       "      <th>test</th>\n",
       "      <th>result</th>\n",
       "    </tr>\n",
       "  </thead>\n",
       "  <tbody>\n",
       "    <tr>\n",
       "      <th>0</th>\n",
       "      <td>한국테크놀로지(053590)는 대우조선해양(042660)에 35억원, 한국이노베이션...</td>\n",
       "      <td>[한국테크놀로지(053590)는, 대우조선해양(042660)에, 35억원,, 한국이...</td>\n",
       "      <td>O X O O O O O O O O O</td>\n",
       "    </tr>\n",
       "    <tr>\n",
       "      <th>1</th>\n",
       "      <td>담보제공재산은 대우조선해양건설 보통주이며 담보제공기간은 대우조선해양의 경우 이달 2...</td>\n",
       "      <td>[담보제공재산은, 대우조선해양건설, 보통주이며, 담보제공기간은, 대우조선해양의, 경...</td>\n",
       "      <td>O X O O X O O O O O</td>\n",
       "    </tr>\n",
       "    <tr>\n",
       "      <th>2</th>\n",
       "      <td>케이아이엔엑스(093320)가 임직원 성과 보상을 위해 NH투자증권과 20억원 규모...</td>\n",
       "      <td>[케이아이엔엑스(093320)가, 임직원, 성과, 보상을, 위해, NH투자증권과, ...</td>\n",
       "      <td>O O O O O X O O O O O O O</td>\n",
       "    </tr>\n",
       "    <tr>\n",
       "      <th>3</th>\n",
       "      <td>윌링스(313760)는 주가안정 및 주주가치 제고를 위해 DB금융투자와 20억원 규...</td>\n",
       "      <td>[윌링스(313760)는, 주가안정, 및, 주주가치, 제고를, 위해, DB금융투자와...</td>\n",
       "      <td>O O O O O O X O O O O O O O O</td>\n",
       "    </tr>\n",
       "    <tr>\n",
       "      <th>4</th>\n",
       "      <td>일진머티리얼즈는 삼성SDI와 이차전지 소재 장기공급 계약을 체결했다고 24일 공시했다.</td>\n",
       "      <td>[일진머티리얼즈는, 삼성SDI와, 이차전지, 소재, 장기공급, 계약을, 체결했다고,...</td>\n",
       "      <td>O X O O O O O O O</td>\n",
       "    </tr>\n",
       "    <tr>\n",
       "      <th>...</th>\n",
       "      <td>...</td>\n",
       "      <td>...</td>\n",
       "      <td>...</td>\n",
       "    </tr>\n",
       "    <tr>\n",
       "      <th>1036</th>\n",
       "      <td>국내 최고 수준의 교육환경을 바탕으로 제주 내 신흥부촌으로 떠오른 제주영어교육도시와...</td>\n",
       "      <td>[국내, 최고, 수준의, 교육환경을, 바탕으로, 제주, 내, 신흥부촌으로, 떠오른,...</td>\n",
       "      <td>O O O O O O O X O O O O O O O O</td>\n",
       "    </tr>\n",
       "    <tr>\n",
       "      <th>1037</th>\n",
       "      <td>한화건설 이중석 분양소장은 \"포레나 제주 에듀시티는 신흥주거지로 떠오르고 있는 제주...</td>\n",
       "      <td>[한화건설, 이중석, 분양소장은, \"포레나, 제주, 에듀시티는, 신흥주거지로, 떠오...</td>\n",
       "      <td>X O O O O O X O O O O O O O O O O O O O O O O ...</td>\n",
       "    </tr>\n",
       "    <tr>\n",
       "      <th>1038</th>\n",
       "      <td>중소벤처기업부는 신종 코로나바이러스 감염증(코로나19) 사태로 피해를 본 저신용 소...</td>\n",
       "      <td>[중소벤처기업부는, 신종, 코로나바이러스, 감염증(코로나19), 사태로, 피해를, ...</td>\n",
       "      <td>O O O O O O O O O X O O O O O O O O O O</td>\n",
       "    </tr>\n",
       "    <tr>\n",
       "      <th>1039</th>\n",
       "      <td>지난해 12월27일 이후 소상공인 방역지원금(100만원)을 받은 소상공인 중 저신용...</td>\n",
       "      <td>[지난해, 12월27일, 이후, 소상공인, 방역지원금(100만원)을, 받은, 소상공...</td>\n",
       "      <td>O O O O O O O O O O O O O O O O O O X</td>\n",
       "    </tr>\n",
       "    <tr>\n",
       "      <th>1040</th>\n",
       "      <td>세금체납, 금융기관 연체, 휴·폐업 중인 소상공인도 지원 대상에서 제외된다.</td>\n",
       "      <td>[세금체납,, 금융기관, 연체,, 휴·폐업, 중인, 소상공인도, 지원, 대상에서, ...</td>\n",
       "      <td>O O O O O O O X O</td>\n",
       "    </tr>\n",
       "  </tbody>\n",
       "</table>\n",
       "<p>1041 rows × 3 columns</p>\n",
       "</div>"
      ],
      "text/plain": [
       "                                          SENTENCE_TEXT  \\\n",
       "0     한국테크놀로지(053590)는 대우조선해양(042660)에 35억원, 한국이노베이션...   \n",
       "1     담보제공재산은 대우조선해양건설 보통주이며 담보제공기간은 대우조선해양의 경우 이달 2...   \n",
       "2     케이아이엔엑스(093320)가 임직원 성과 보상을 위해 NH투자증권과 20억원 규모...   \n",
       "3     윌링스(313760)는 주가안정 및 주주가치 제고를 위해 DB금융투자와 20억원 규...   \n",
       "4      일진머티리얼즈는 삼성SDI와 이차전지 소재 장기공급 계약을 체결했다고 24일 공시했다.   \n",
       "...                                                 ...   \n",
       "1036  국내 최고 수준의 교육환경을 바탕으로 제주 내 신흥부촌으로 떠오른 제주영어교육도시와...   \n",
       "1037  한화건설 이중석 분양소장은 \"포레나 제주 에듀시티는 신흥주거지로 떠오르고 있는 제주...   \n",
       "1038  중소벤처기업부는 신종 코로나바이러스 감염증(코로나19) 사태로 피해를 본 저신용 소...   \n",
       "1039  지난해 12월27일 이후 소상공인 방역지원금(100만원)을 받은 소상공인 중 저신용...   \n",
       "1040         세금체납, 금융기관 연체, 휴·폐업 중인 소상공인도 지원 대상에서 제외된다.   \n",
       "\n",
       "                                                   test  \\\n",
       "0     [한국테크놀로지(053590)는, 대우조선해양(042660)에, 35억원,, 한국이...   \n",
       "1     [담보제공재산은, 대우조선해양건설, 보통주이며, 담보제공기간은, 대우조선해양의, 경...   \n",
       "2     [케이아이엔엑스(093320)가, 임직원, 성과, 보상을, 위해, NH투자증권과, ...   \n",
       "3     [윌링스(313760)는, 주가안정, 및, 주주가치, 제고를, 위해, DB금융투자와...   \n",
       "4     [일진머티리얼즈는, 삼성SDI와, 이차전지, 소재, 장기공급, 계약을, 체결했다고,...   \n",
       "...                                                 ...   \n",
       "1036  [국내, 최고, 수준의, 교육환경을, 바탕으로, 제주, 내, 신흥부촌으로, 떠오른,...   \n",
       "1037  [한화건설, 이중석, 분양소장은, \"포레나, 제주, 에듀시티는, 신흥주거지로, 떠오...   \n",
       "1038  [중소벤처기업부는, 신종, 코로나바이러스, 감염증(코로나19), 사태로, 피해를, ...   \n",
       "1039  [지난해, 12월27일, 이후, 소상공인, 방역지원금(100만원)을, 받은, 소상공...   \n",
       "1040  [세금체납,, 금융기관, 연체,, 휴·폐업, 중인, 소상공인도, 지원, 대상에서, ...   \n",
       "\n",
       "                                                 result  \n",
       "0                                 O X O O O O O O O O O  \n",
       "1                                   O X O O X O O O O O  \n",
       "2                             O O O O O X O O O O O O O  \n",
       "3                         O O O O O O X O O O O O O O O  \n",
       "4                                     O X O O O O O O O  \n",
       "...                                                 ...  \n",
       "1036                    O O O O O O O X O O O O O O O O  \n",
       "1037  X O O O O O X O O O O O O O O O O O O O O O O ...  \n",
       "1038            O O O O O O O O O X O O O O O O O O O O  \n",
       "1039              O O O O O O O O O O O O O O O O O O X  \n",
       "1040                                  O O O O O O O X O  \n",
       "\n",
       "[1041 rows x 3 columns]"
      ]
     },
     "execution_count": 137,
     "metadata": {},
     "output_type": "execute_result"
    }
   ],
   "source": [
    "df"
   ]
  },
  {
   "cell_type": "code",
   "execution_count": 138,
   "id": "f6d0f8a4",
   "metadata": {
    "scrolled": true
   },
   "outputs": [
    {
     "name": "stdout",
     "output_type": "stream",
     "text": [
      "O X O O O O O O O O O\n"
     ]
    }
   ],
   "source": [
    "df2 = df[['SENTENCE_TEXT','result']]\n",
    "print(df2.iloc[0]['result'])"
   ]
  },
  {
   "cell_type": "code",
   "execution_count": 140,
   "id": "8addfbb7",
   "metadata": {},
   "outputs": [],
   "source": [
    "df2.to_excel('NER_1125_2.xlsx')"
   ]
  },
  {
   "cell_type": "markdown",
   "id": "5ca3fd30",
   "metadata": {},
   "source": [
    "# NER 개체명 인식"
   ]
  },
  {
   "cell_type": "markdown",
   "id": "6848eff0",
   "metadata": {},
   "source": [
    "엑셀 파일 불러오기"
   ]
  },
  {
   "cell_type": "code",
   "execution_count": 248,
   "id": "85e45011",
   "metadata": {},
   "outputs": [],
   "source": [
    "import pandas as pd\n",
    "import xlwings as xw\n",
    "df = xw.Book('sentence_20201017_stock.xlsx')\n",
    "df = df.sheets(1).used_range.options(pd.DataFrame).value"
   ]
  },
  {
   "cell_type": "code",
   "execution_count": 249,
   "id": "5d5b5d47",
   "metadata": {},
   "outputs": [],
   "source": [
    "df =df.rename(columns = {0 :'SENTENCE_TEXT',1: 'result'})"
   ]
  },
  {
   "cell_type": "code",
   "execution_count": 62,
   "id": "3f643a02",
   "metadata": {},
   "outputs": [],
   "source": [
    "def processing(row,stock_name_list):\n",
    "    label = ['O']*len(row)\n",
    "    for i,j in enumerate(row):\n",
    "        for s in stock_name_list:\n",
    "            if s in j:\n",
    "                label[i] = 'X'\n",
    "            if '크래프톤' in j or '정부' in j or '엔켐' in j:\n",
    "                label[i] = 'ORG-B'\n",
    "            \n",
    "    return label\n",
    "\n",
    "\n",
    "def keywording(row):\n",
    "    keyword = ['주가','강세','매수','거래','전일대비','시장','기업','상장사','유가증권','공시','주주','발행','전망','분기','매출','대비','동기',\n",
    "           '공개매수','공모주','권리락','기업공개','IPO','기업분할','기준일','물적분할','밸류에이션''블록딜','상장일','상장폐지',\n",
    "            '액면분할','인적분할','일반공모','자본잠식','증자','펀더멘털''포트폴리오','당기순이익','매출액','영업이익','컨센서스','수출','김치','공장']\n",
    "    for i in keyword:\n",
    "        if i in row:\n",
    "            target = 1\n",
    "            break\n",
    "    else:\n",
    "        target = 0\n",
    "    return target\n",
    "lists = ['유니온', '전방', '국보', '동양', '대상', '혜인', '남성', '한창', '신흥', '대교', '동서', 'DB', 'CS', '서산', '선진', '레이', '나노', '태양', '진도', '보령', '러셀', '배럴', '서남', '신원', '금양', '엔켐', '크래프톤' ] \n",
    "df['test'] = df['SENTENCE_TEXT'].apply(texttosentences)\n",
    "df['result'] = df['test'].apply(lambda x : processing(x,lists))\n",
    "df['result'] = df['result'].apply(lambda x : \" \".join(x))"
   ]
  },
  {
   "cell_type": "code",
   "execution_count": 258,
   "id": "60151b43",
   "metadata": {},
   "outputs": [],
   "source": [
    "df['test_s'] = df['SENTENCE_TEXT'].apply(texttosentences)\n",
    "df['test_r'] = df['result'].apply(texttosentences)"
   ]
  },
  {
   "cell_type": "code",
   "execution_count": 259,
   "id": "213324e8",
   "metadata": {},
   "outputs": [],
   "source": [
    "df['test_r'] = df['result'].apply(texttosentences)"
   ]
  },
  {
   "cell_type": "code",
   "execution_count": 260,
   "id": "2050fd44",
   "metadata": {},
   "outputs": [],
   "source": [
    "df = df.reset_index(drop = True)"
   ]
  },
  {
   "cell_type": "code",
   "execution_count": 261,
   "id": "6b30adeb",
   "metadata": {
    "scrolled": true
   },
   "outputs": [],
   "source": [
    "global cnt\n",
    "cnt = 0\n",
    "def processing_2(row):\n",
    "    result = 0\n",
    "    global cnt\n",
    "    for i,j in enumerate(row):\n",
    "        if (\"남성\" in j) & (df.loc[cnt,'test_r'][i] == 'NRG-B'):\n",
    "            result += 1\n",
    "    cnt +=1\n",
    "    return result\n",
    "\n",
    "df['target'] = df['test_s'].apply(lambda x : processing_2(x)) ## 기업 이름 삽입"
   ]
  },
  {
   "cell_type": "code",
   "execution_count": 262,
   "id": "b7a6fd3e",
   "metadata": {
    "scrolled": false
   },
   "outputs": [
    {
     "data": {
      "text/plain": [
       "0    7293\n",
       "1     672\n",
       "2      70\n",
       "3       9\n",
       "6       1\n",
       "Name: target, dtype: int64"
      ]
     },
     "execution_count": 262,
     "metadata": {},
     "output_type": "execute_result"
    }
   ],
   "source": [
    "df['target'].value_counts()"
   ]
  },
  {
   "cell_type": "code",
   "execution_count": 263,
   "id": "6ec708f9",
   "metadata": {},
   "outputs": [],
   "source": [
    "df = df[['SENTENCE_TEXT','result','target']]"
   ]
  },
  {
   "cell_type": "code",
   "execution_count": 264,
   "id": "fb6ffbf5",
   "metadata": {},
   "outputs": [
    {
     "data": {
      "text/html": [
       "<div>\n",
       "<style scoped>\n",
       "    .dataframe tbody tr th:only-of-type {\n",
       "        vertical-align: middle;\n",
       "    }\n",
       "\n",
       "    .dataframe tbody tr th {\n",
       "        vertical-align: top;\n",
       "    }\n",
       "\n",
       "    .dataframe thead th {\n",
       "        text-align: right;\n",
       "    }\n",
       "</style>\n",
       "<table border=\"1\" class=\"dataframe\">\n",
       "  <thead>\n",
       "    <tr style=\"text-align: right;\">\n",
       "      <th></th>\n",
       "      <th>SENTENCE_TEXT</th>\n",
       "      <th>result</th>\n",
       "      <th>target</th>\n",
       "    </tr>\n",
       "  </thead>\n",
       "  <tbody>\n",
       "    <tr>\n",
       "      <th>0</th>\n",
       "      <td>KB캐피탈은 한국GM과 함께 이달 한 달 동안 쉐보레 차량 구매 고객 대상의 무이자...</td>\n",
       "      <td>ORG-B ORG-B O O O O O PDT-B PDT-I O O NRG-B O ...</td>\n",
       "      <td>0</td>\n",
       "    </tr>\n",
       "    <tr>\n",
       "      <th>1</th>\n",
       "      <td>무이자 할부 프로그램은 스파크, 트레버스, 말리부, 트랙스, 이쿼녹스 5개 차종을 ...</td>\n",
       "      <td>O O O PDT-B PDT-B PDT-B PDT-B PDT-B O O NRG-B O</td>\n",
       "      <td>0</td>\n",
       "    </tr>\n",
       "    <tr>\n",
       "      <th>2</th>\n",
       "      <td>쉐보레는 '2020 한국산업 서비스 품질지수(KSQI: Korean Service ...</td>\n",
       "      <td>PDT-B O O O O O O O O PDT-B O O O O O O O O O ...</td>\n",
       "      <td>0</td>\n",
       "    </tr>\n",
       "    <tr>\n",
       "      <th>3</th>\n",
       "      <td>정부가 2차 긴급재난지원금 지급 대상과 기준을 발표했습니다.</td>\n",
       "      <td>ORG-B O O O NRG-B O O</td>\n",
       "      <td>0</td>\n",
       "    </tr>\n",
       "    <tr>\n",
       "      <th>4</th>\n",
       "      <td>그러나 법인택시 기사들은 회사에 소속된 ‘근로자 지위’에 해당하기 때문에 대상이 아...</td>\n",
       "      <td>O O O O O O O O O NRG-B O O</td>\n",
       "      <td>0</td>\n",
       "    </tr>\n",
       "    <tr>\n",
       "      <th>...</th>\n",
       "      <td>...</td>\n",
       "      <td>...</td>\n",
       "      <td>...</td>\n",
       "    </tr>\n",
       "    <tr>\n",
       "      <th>8040</th>\n",
       "      <td>2020 좋은일자리대상은 심사 역시 비대면으로 진행했다.</td>\n",
       "      <td>O NRG-B O O O O</td>\n",
       "      <td>0</td>\n",
       "    </tr>\n",
       "    <tr>\n",
       "      <th>8041</th>\n",
       "      <td>고수익을 미끼로 1천600만달러(약 183억원) 규모의 가상화폐 관련 투자사기를 벌...</td>\n",
       "      <td>O O O O O O O O O O O O NRG-B O O O O O O O OR...</td>\n",
       "      <td>1</td>\n",
       "    </tr>\n",
       "    <tr>\n",
       "      <th>8042</th>\n",
       "      <td>한화그룹은 30일 '한화사이언스챌린지 2021' 대상에 세종과학예술영재학교(세종영재...</td>\n",
       "      <td>ORG-B O O O NRG-B O O O O O O O</td>\n",
       "      <td>0</td>\n",
       "    </tr>\n",
       "    <tr>\n",
       "      <th>8043</th>\n",
       "      <td>두 학생은 '자동차 변속기의 작동 원리와 태엽 스프링을 적용한 친환경 동력 리어카 ...</td>\n",
       "      <td>O O PDT-B PDT-B O O O O O O O PDT-B O O NRG-B O O</td>\n",
       "      <td>0</td>\n",
       "    </tr>\n",
       "    <tr>\n",
       "      <th>8044</th>\n",
       "      <td>대상 팀에는 상금 4000만원이 부여되며 입상 팀 전체에게 주어진 총상금은 1억70...</td>\n",
       "      <td>NRG-B O O O O O O O O O O O</td>\n",
       "      <td>0</td>\n",
       "    </tr>\n",
       "  </tbody>\n",
       "</table>\n",
       "<p>8045 rows × 3 columns</p>\n",
       "</div>"
      ],
      "text/plain": [
       "                                          SENTENCE_TEXT  \\\n",
       "0     KB캐피탈은 한국GM과 함께 이달 한 달 동안 쉐보레 차량 구매 고객 대상의 무이자...   \n",
       "1     무이자 할부 프로그램은 스파크, 트레버스, 말리부, 트랙스, 이쿼녹스 5개 차종을 ...   \n",
       "2     쉐보레는 '2020 한국산업 서비스 품질지수(KSQI: Korean Service ...   \n",
       "3                     정부가 2차 긴급재난지원금 지급 대상과 기준을 발표했습니다.   \n",
       "4     그러나 법인택시 기사들은 회사에 소속된 ‘근로자 지위’에 해당하기 때문에 대상이 아...   \n",
       "...                                                 ...   \n",
       "8040                    2020 좋은일자리대상은 심사 역시 비대면으로 진행했다.   \n",
       "8041  고수익을 미끼로 1천600만달러(약 183억원) 규모의 가상화폐 관련 투자사기를 벌...   \n",
       "8042  한화그룹은 30일 '한화사이언스챌린지 2021' 대상에 세종과학예술영재학교(세종영재...   \n",
       "8043  두 학생은 '자동차 변속기의 작동 원리와 태엽 스프링을 적용한 친환경 동력 리어카 ...   \n",
       "8044  대상 팀에는 상금 4000만원이 부여되며 입상 팀 전체에게 주어진 총상금은 1억70...   \n",
       "\n",
       "                                                 result  target  \n",
       "0     ORG-B ORG-B O O O O O PDT-B PDT-I O O NRG-B O ...       0  \n",
       "1       O O O PDT-B PDT-B PDT-B PDT-B PDT-B O O NRG-B O       0  \n",
       "2     PDT-B O O O O O O O O PDT-B O O O O O O O O O ...       0  \n",
       "3                                 ORG-B O O O NRG-B O O       0  \n",
       "4                           O O O O O O O O O NRG-B O O       0  \n",
       "...                                                 ...     ...  \n",
       "8040                                    O NRG-B O O O O       0  \n",
       "8041  O O O O O O O O O O O O NRG-B O O O O O O O OR...       1  \n",
       "8042                    ORG-B O O O NRG-B O O O O O O O       0  \n",
       "8043  O O PDT-B PDT-B O O O O O O O PDT-B O O NRG-B O O       0  \n",
       "8044                        NRG-B O O O O O O O O O O O       0  \n",
       "\n",
       "[8045 rows x 3 columns]"
      ]
     },
     "execution_count": 264,
     "metadata": {},
     "output_type": "execute_result"
    }
   ],
   "source": [
    "df"
   ]
  },
  {
   "cell_type": "code",
   "execution_count": null,
   "id": "ccbdde5c",
   "metadata": {},
   "outputs": [],
   "source": [
    "df['class'] = df.apply(lambda x :1 if df['test_s'][i])"
   ]
  },
  {
   "cell_type": "code",
   "execution_count": 8,
   "id": "e80300f5",
   "metadata": {},
   "outputs": [],
   "source": [
    "import pandas as pd\n",
    "import xlwings as xw\n",
    "df = xw.Book('NER_1125_2.xlsx')\n",
    "df = df.sheets(1).used_range.options(pd.DataFrame).value"
   ]
  },
  {
   "cell_type": "code",
   "execution_count": 9,
   "id": "d7135eb1",
   "metadata": {},
   "outputs": [
    {
     "data": {
      "text/html": [
       "<div>\n",
       "<style scoped>\n",
       "    .dataframe tbody tr th:only-of-type {\n",
       "        vertical-align: middle;\n",
       "    }\n",
       "\n",
       "    .dataframe tbody tr th {\n",
       "        vertical-align: top;\n",
       "    }\n",
       "\n",
       "    .dataframe thead th {\n",
       "        text-align: right;\n",
       "    }\n",
       "</style>\n",
       "<table border=\"1\" class=\"dataframe\">\n",
       "  <thead>\n",
       "    <tr style=\"text-align: right;\">\n",
       "      <th></th>\n",
       "      <th>SENTENCE_TEXT</th>\n",
       "      <th>result</th>\n",
       "    </tr>\n",
       "  </thead>\n",
       "  <tbody>\n",
       "    <tr>\n",
       "      <th>0.0</th>\n",
       "      <td>한국테크놀로지(053590)는 대우조선해양(042660)에 35억원, 한국이노베이션...</td>\n",
       "      <td>ORG-B ORG-B O ORG-B O O O O O O O</td>\n",
       "    </tr>\n",
       "    <tr>\n",
       "      <th>1.0</th>\n",
       "      <td>담보제공재산은 대우조선해양건설 보통주이며 담보제공기간은 대우조선해양의 경우 이달 2...</td>\n",
       "      <td>O ORG-B O O ORG-B O O O O O</td>\n",
       "    </tr>\n",
       "    <tr>\n",
       "      <th>2.0</th>\n",
       "      <td>케이아이엔엑스(093320)가 임직원 성과 보상을 위해 NH투자증권과 20억원 규모...</td>\n",
       "      <td>ORG-B O O O O ORG-B O O O O O O O</td>\n",
       "    </tr>\n",
       "    <tr>\n",
       "      <th>3.0</th>\n",
       "      <td>윌링스(313760)는 주가안정 및 주주가치 제고를 위해 DB금융투자와 20억원 규...</td>\n",
       "      <td>ORG-B O O O O O ORG-B O O O O O O O O</td>\n",
       "    </tr>\n",
       "    <tr>\n",
       "      <th>4.0</th>\n",
       "      <td>일진머티리얼즈는 삼성SDI와 이차전지 소재 장기공급 계약을 체결했다고 24일 공시했다.</td>\n",
       "      <td>ORG-B ORG-B PDT-B O O O O O O</td>\n",
       "    </tr>\n",
       "    <tr>\n",
       "      <th>...</th>\n",
       "      <td>...</td>\n",
       "      <td>...</td>\n",
       "    </tr>\n",
       "    <tr>\n",
       "      <th>1036.0</th>\n",
       "      <td>국내 최고 수준의 교육환경을 바탕으로 제주 내 신흥부촌으로 떠오른 제주영어교육도시와...</td>\n",
       "      <td>O O O O O O O NRG-B O O O O O O O O</td>\n",
       "    </tr>\n",
       "    <tr>\n",
       "      <th>1037.0</th>\n",
       "      <td>한화건설 이중석 분양소장은 \"포레나 제주 에듀시티는 신흥주거지로 떠오르고 있는 제주...</td>\n",
       "      <td>ORG-B O O PDT-B PDT-I PDT-I ORG-B O O O O O O ...</td>\n",
       "    </tr>\n",
       "    <tr>\n",
       "      <th>1038.0</th>\n",
       "      <td>중소벤처기업부는 신종 코로나바이러스 감염증(코로나19) 사태로 피해를 본 저신용 소...</td>\n",
       "      <td>ORG-B O O O O O O O O NRG-B O O O O O O O O O O</td>\n",
       "    </tr>\n",
       "    <tr>\n",
       "      <th>1039.0</th>\n",
       "      <td>지난해 12월27일 이후 소상공인 방역지원금(100만원)을 받은 소상공인 중 저신용...</td>\n",
       "      <td>O O O O O O O O O O O O O O O O O O NRG-B</td>\n",
       "    </tr>\n",
       "    <tr>\n",
       "      <th>1040.0</th>\n",
       "      <td>세금체납, 금융기관 연체, 휴·폐업 중인 소상공인도 지원 대상에서 제외된다.</td>\n",
       "      <td>O O O O O O O NRG-B O</td>\n",
       "    </tr>\n",
       "  </tbody>\n",
       "</table>\n",
       "<p>1041 rows × 2 columns</p>\n",
       "</div>"
      ],
      "text/plain": [
       "                                            SENTENCE_TEXT  \\\n",
       "0.0     한국테크놀로지(053590)는 대우조선해양(042660)에 35억원, 한국이노베이션...   \n",
       "1.0     담보제공재산은 대우조선해양건설 보통주이며 담보제공기간은 대우조선해양의 경우 이달 2...   \n",
       "2.0     케이아이엔엑스(093320)가 임직원 성과 보상을 위해 NH투자증권과 20억원 규모...   \n",
       "3.0     윌링스(313760)는 주가안정 및 주주가치 제고를 위해 DB금융투자와 20억원 규...   \n",
       "4.0      일진머티리얼즈는 삼성SDI와 이차전지 소재 장기공급 계약을 체결했다고 24일 공시했다.   \n",
       "...                                                   ...   \n",
       "1036.0  국내 최고 수준의 교육환경을 바탕으로 제주 내 신흥부촌으로 떠오른 제주영어교육도시와...   \n",
       "1037.0  한화건설 이중석 분양소장은 \"포레나 제주 에듀시티는 신흥주거지로 떠오르고 있는 제주...   \n",
       "1038.0  중소벤처기업부는 신종 코로나바이러스 감염증(코로나19) 사태로 피해를 본 저신용 소...   \n",
       "1039.0  지난해 12월27일 이후 소상공인 방역지원금(100만원)을 받은 소상공인 중 저신용...   \n",
       "1040.0         세금체납, 금융기관 연체, 휴·폐업 중인 소상공인도 지원 대상에서 제외된다.   \n",
       "\n",
       "                                                   result  \n",
       "0.0                     ORG-B ORG-B O ORG-B O O O O O O O  \n",
       "1.0                           O ORG-B O O ORG-B O O O O O  \n",
       "2.0                     ORG-B O O O O ORG-B O O O O O O O  \n",
       "3.0                 ORG-B O O O O O ORG-B O O O O O O O O  \n",
       "4.0                         ORG-B ORG-B PDT-B O O O O O O  \n",
       "...                                                   ...  \n",
       "1036.0                O O O O O O O NRG-B O O O O O O O O  \n",
       "1037.0  ORG-B O O PDT-B PDT-I PDT-I ORG-B O O O O O O ...  \n",
       "1038.0    ORG-B O O O O O O O O NRG-B O O O O O O O O O O  \n",
       "1039.0          O O O O O O O O O O O O O O O O O O NRG-B  \n",
       "1040.0                              O O O O O O O NRG-B O  \n",
       "\n",
       "[1041 rows x 2 columns]"
      ]
     },
     "execution_count": 9,
     "metadata": {},
     "output_type": "execute_result"
    }
   ],
   "source": [
    "df"
   ]
  },
  {
   "cell_type": "markdown",
   "id": "86693767",
   "metadata": {},
   "source": [
    "문장 텍스트 전처리"
   ]
  },
  {
   "cell_type": "code",
   "execution_count": 10,
   "id": "faba2fa4",
   "metadata": {
    "scrolled": true
   },
   "outputs": [],
   "source": [
    "df['SENTENCE_TEXT'] = df['SENTENCE_TEXT'].apply(lambda x : x.replace(\"\\t\",\"\"))"
   ]
  },
  {
   "cell_type": "markdown",
   "id": "bb06c989",
   "metadata": {},
   "source": [
    "tsv 파일로 저장"
   ]
  },
  {
   "cell_type": "code",
   "execution_count": 11,
   "id": "b0f92624",
   "metadata": {},
   "outputs": [],
   "source": [
    "df.to_csv('NER_1111.tsv', index = False, header = False, sep = '\\t')"
   ]
  },
  {
   "cell_type": "markdown",
   "id": "1506b2ea",
   "metadata": {},
   "source": [
    "excel 파일로 저장"
   ]
  },
  {
   "cell_type": "code",
   "execution_count": 266,
   "id": "c592b267",
   "metadata": {},
   "outputs": [],
   "source": [
    "df.to_excel('NER_1111.xlsx')"
   ]
  },
  {
   "cell_type": "markdown",
   "id": "ab2b5743",
   "metadata": {},
   "source": [
    "tsv 파일 불러오기"
   ]
  },
  {
   "cell_type": "code",
   "execution_count": 12,
   "id": "0fe2428c",
   "metadata": {},
   "outputs": [],
   "source": [
    "import pandas as pd\n",
    "import xlwings as xw\n",
    "df = pd.read_csv('NER_1111.tsv',header= None,delimiter='\\t')"
   ]
  },
  {
   "cell_type": "markdown",
   "id": "f2d53a08",
   "metadata": {},
   "source": [
    "최종 확인 및 전처리"
   ]
  },
  {
   "cell_type": "code",
   "execution_count": 13,
   "id": "0718468e",
   "metadata": {},
   "outputs": [],
   "source": [
    "def read_file(input_file):\n",
    "        \"\"\"Read tsv file, and return words and label as list\"\"\"\n",
    "        with open(input_file, \"r\", encoding=\"utf-8\") as f:\n",
    "            lines = []\n",
    "            for line in f:\n",
    "                lines.append(line.strip())\n",
    "            return lines\n",
    "\n",
    "\n",
    "def create_examples(dataset):\n",
    "    \"\"\"Creates examples for the training and dev sets.\"\"\"\n",
    "    label_lst = [\"O\", \"ORG-B\", \"ORG-I\", \"NRG-B\", \"NRG-I\", \"PDT-B\", \"PDT-I\"]\n",
    "    label_map = {label: i for i, label in enumerate(label_lst)}\n",
    "    examples = []\n",
    "    a = []\n",
    "    b = []\n",
    "    for (i, data) in enumerate(dataset):\n",
    "        words, labels = data.split('\\t')\n",
    "        words = words.split()\n",
    "        labels = labels.split()\n",
    "        \n",
    "        for label in labels:\n",
    "            if label in label_lst:\n",
    "                a.append(label)\n",
    "            else:\n",
    "                b.append(label)\n",
    "        if len(words) != len(labels):\n",
    "            print(words,i)\n",
    "\n",
    "        assert len(words) == len(labels)\n",
    "    \n",
    "    return b"
   ]
  },
  {
   "cell_type": "markdown",
   "id": "2dcf8948",
   "metadata": {},
   "source": [
    "오타 검출"
   ]
  },
  {
   "cell_type": "code",
   "execution_count": 14,
   "id": "915f993b",
   "metadata": {
    "scrolled": true
   },
   "outputs": [
    {
     "data": {
      "text/plain": [
       "[]"
      ]
     },
     "execution_count": 14,
     "metadata": {},
     "output_type": "execute_result"
    }
   ],
   "source": [
    "line = read_file('NER_1111.tsv')\n",
    "create_examples(line)"
   ]
  },
  {
   "cell_type": "markdown",
   "id": "7571b855",
   "metadata": {},
   "source": [
    "# 검수"
   ]
  },
  {
   "cell_type": "code",
   "execution_count": 28,
   "id": "729a1551",
   "metadata": {},
   "outputs": [],
   "source": [
    "import pandas as pd\n",
    "import xlwings as xw\n",
    "df_1 = pd.read_csv('result_csv.csv',sep='\\t',header = None)\n",
    "df_1 = df_1.rename(columns = {0:'NER'})\n",
    "df_2 = pd.read_excel('sentence_20221024_ner.xlsx',index_col = 0)"
   ]
  },
  {
   "cell_type": "code",
   "execution_count": 29,
   "id": "c27da910",
   "metadata": {
    "scrolled": true
   },
   "outputs": [
    {
     "data": {
      "text/html": [
       "<div>\n",
       "<style scoped>\n",
       "    .dataframe tbody tr th:only-of-type {\n",
       "        vertical-align: middle;\n",
       "    }\n",
       "\n",
       "    .dataframe tbody tr th {\n",
       "        vertical-align: top;\n",
       "    }\n",
       "\n",
       "    .dataframe thead th {\n",
       "        text-align: right;\n",
       "    }\n",
       "</style>\n",
       "<table border=\"1\" class=\"dataframe\">\n",
       "  <thead>\n",
       "    <tr style=\"text-align: right;\">\n",
       "      <th></th>\n",
       "      <th>NER</th>\n",
       "    </tr>\n",
       "  </thead>\n",
       "  <tbody>\n",
       "    <tr>\n",
       "      <th>0</th>\n",
       "      <td>여장을 하고 여자 목욕탕에 들어간 20대 [남성이:NRG-B] 경찰에 붙잡혔다.</td>\n",
       "    </tr>\n",
       "    <tr>\n",
       "      <th>1</th>\n",
       "      <td>14일 경찰에 따르면 연수경찰서는 성폭력범죄의 처벌 등에 관한 특례법상 성적 목적을...</td>\n",
       "    </tr>\n",
       "    <tr>\n",
       "      <th>2</th>\n",
       "      <td>17년 연속 매출 성장세를 이어가는 [보령이:ORG-B] 추가 성장동력을 마련했다.</td>\n",
       "    </tr>\n",
       "    <tr>\n",
       "      <th>3</th>\n",
       "      <td>관건은 [보령의:ORG-B] 토종신약 ['카나브'의:PDT-B] 내년 특허만료다.</td>\n",
       "    </tr>\n",
       "    <tr>\n",
       "      <th>4</th>\n",
       "      <td>[보령은:ORG-B] 다양한 성분을 섞은 복합제 제품군을 늘려 카나브의 경쟁력을 끌...</td>\n",
       "    </tr>\n",
       "    <tr>\n",
       "      <th>...</th>\n",
       "      <td>...</td>\n",
       "    </tr>\n",
       "    <tr>\n",
       "      <th>484</th>\n",
       "      <td>이어 \"양도소득세의 경우에도 해당 수익증권은 자본시장법에 따른 수익증권으로 보고, ...</td>\n",
       "    </tr>\n",
       "    <tr>\n",
       "      <th>485</th>\n",
       "      <td>현재 주식 양도세 납부 [대상인:NRG-B] 대주주(종목당 10억원·일정 지분 이상...</td>\n",
       "    </tr>\n",
       "    <tr>\n",
       "      <th>486</th>\n",
       "      <td>채권자가 신탁해지금지 가처분을 신청하는 등 임차인의 전세보증금을 보장할 수 없는 상...</td>\n",
       "    </tr>\n",
       "    <tr>\n",
       "      <th>487</th>\n",
       "      <td>[정부가:ORG-B] 저출산 종합 대책을 처음 마련한 2006년만 해도 지원 [대상...</td>\n",
       "    </tr>\n",
       "    <tr>\n",
       "      <th>488</th>\n",
       "      <td>○예산 21배 늘었지만 출산율 뚝정부가 영유아와 자녀양육가구 외에 전 국민을 저출산...</td>\n",
       "    </tr>\n",
       "  </tbody>\n",
       "</table>\n",
       "<p>489 rows × 1 columns</p>\n",
       "</div>"
      ],
      "text/plain": [
       "                                                   NER\n",
       "0        여장을 하고 여자 목욕탕에 들어간 20대 [남성이:NRG-B] 경찰에 붙잡혔다. \n",
       "1    14일 경찰에 따르면 연수경찰서는 성폭력범죄의 처벌 등에 관한 특례법상 성적 목적을...\n",
       "2      17년 연속 매출 성장세를 이어가는 [보령이:ORG-B] 추가 성장동력을 마련했다. \n",
       "3       관건은 [보령의:ORG-B] 토종신약 ['카나브'의:PDT-B] 내년 특허만료다. \n",
       "4    [보령은:ORG-B] 다양한 성분을 섞은 복합제 제품군을 늘려 카나브의 경쟁력을 끌...\n",
       "..                                                 ...\n",
       "484  이어 \"양도소득세의 경우에도 해당 수익증권은 자본시장법에 따른 수익증권으로 보고, ...\n",
       "485  현재 주식 양도세 납부 [대상인:NRG-B] 대주주(종목당 10억원·일정 지분 이상...\n",
       "486  채권자가 신탁해지금지 가처분을 신청하는 등 임차인의 전세보증금을 보장할 수 없는 상...\n",
       "487  [정부가:ORG-B] 저출산 종합 대책을 처음 마련한 2006년만 해도 지원 [대상...\n",
       "488  ○예산 21배 늘었지만 출산율 뚝정부가 영유아와 자녀양육가구 외에 전 국민을 저출산...\n",
       "\n",
       "[489 rows x 1 columns]"
      ]
     },
     "execution_count": 29,
     "metadata": {},
     "output_type": "execute_result"
    }
   ],
   "source": [
    "df_1"
   ]
  },
  {
   "cell_type": "code",
   "execution_count": 30,
   "id": "23ba7c1e",
   "metadata": {},
   "outputs": [],
   "source": [
    "df= pd.concat([df_2,df_1],axis=1)"
   ]
  },
  {
   "cell_type": "code",
   "execution_count": 39,
   "id": "30e8fa7b",
   "metadata": {},
   "outputs": [
    {
     "data": {
      "text/html": [
       "<div>\n",
       "<style scoped>\n",
       "    .dataframe tbody tr th:only-of-type {\n",
       "        vertical-align: middle;\n",
       "    }\n",
       "\n",
       "    .dataframe tbody tr th {\n",
       "        vertical-align: top;\n",
       "    }\n",
       "\n",
       "    .dataframe thead th {\n",
       "        text-align: right;\n",
       "    }\n",
       "</style>\n",
       "<table border=\"1\" class=\"dataframe\">\n",
       "  <thead>\n",
       "    <tr style=\"text-align: right;\">\n",
       "      <th></th>\n",
       "      <th>NEWS_ID</th>\n",
       "      <th>STD_DT</th>\n",
       "      <th>COMPANY</th>\n",
       "      <th>SENTENCE_ID</th>\n",
       "      <th>SENTENCE_TEXT</th>\n",
       "      <th>SENTIMENT LABEL</th>\n",
       "      <th>NER</th>\n",
       "      <th>fillter</th>\n",
       "    </tr>\n",
       "  </thead>\n",
       "  <tbody>\n",
       "    <tr>\n",
       "      <th>0</th>\n",
       "      <td>24798108</td>\n",
       "      <td>2022-09-14 21:07:01</td>\n",
       "      <td>남성</td>\n",
       "      <td>1</td>\n",
       "      <td>여장을 하고 여자 목욕탕에 들어간 20대 남성이 경찰에 붙잡혔다.</td>\n",
       "      <td>NaN</td>\n",
       "      <td>여장을 하고 여자 목욕탕에 들어간 20대 [남성이:NRG-B] 경찰에 붙잡혔다.</td>\n",
       "      <td>NaN</td>\n",
       "    </tr>\n",
       "    <tr>\n",
       "      <th>1</th>\n",
       "      <td>24798108</td>\n",
       "      <td>2022-09-14 21:07:01</td>\n",
       "      <td>남성</td>\n",
       "      <td>2</td>\n",
       "      <td>14일 경찰에 따르면 연수경찰서는 성폭력범죄의 처벌 등에 관한 특례법상 성적 목적을...</td>\n",
       "      <td>NaN</td>\n",
       "      <td>14일 경찰에 따르면 연수경찰서는 성폭력범죄의 처벌 등에 관한 특례법상 성적 목적을...</td>\n",
       "      <td>NaN</td>\n",
       "    </tr>\n",
       "    <tr>\n",
       "      <th>2</th>\n",
       "      <td>26857617</td>\n",
       "      <td>2022-10-12 14:21:09</td>\n",
       "      <td>보령</td>\n",
       "      <td>1</td>\n",
       "      <td>17년 연속 매출 성장세를 이어가는 보령이 추가 성장동력을 마련했다.</td>\n",
       "      <td>NaN</td>\n",
       "      <td>17년 연속 매출 성장세를 이어가는 [보령이:ORG-B] 추가 성장동력을 마련했다.</td>\n",
       "      <td>NaN</td>\n",
       "    </tr>\n",
       "    <tr>\n",
       "      <th>3</th>\n",
       "      <td>26857617</td>\n",
       "      <td>2022-10-12 14:21:09</td>\n",
       "      <td>보령</td>\n",
       "      <td>2</td>\n",
       "      <td>관건은 보령의 토종신약 '카나브'의 내년 특허만료다.</td>\n",
       "      <td>NaN</td>\n",
       "      <td>관건은 [보령의:ORG-B] 토종신약 ['카나브'의:PDT-B] 내년 특허만료다.</td>\n",
       "      <td>NaN</td>\n",
       "    </tr>\n",
       "    <tr>\n",
       "      <th>4</th>\n",
       "      <td>26857617</td>\n",
       "      <td>2022-10-12 14:21:09</td>\n",
       "      <td>보령</td>\n",
       "      <td>3</td>\n",
       "      <td>보령은 다양한 성분을 섞은 복합제 제품군을 늘려 카나브의 경쟁력을 끌어올리는 방식으...</td>\n",
       "      <td>NaN</td>\n",
       "      <td>[보령은:ORG-B] 다양한 성분을 섞은 복합제 제품군을 늘려 카나브의 경쟁력을 끌...</td>\n",
       "      <td>NaN</td>\n",
       "    </tr>\n",
       "    <tr>\n",
       "      <th>...</th>\n",
       "      <td>...</td>\n",
       "      <td>...</td>\n",
       "      <td>...</td>\n",
       "      <td>...</td>\n",
       "      <td>...</td>\n",
       "      <td>...</td>\n",
       "      <td>...</td>\n",
       "      <td>...</td>\n",
       "    </tr>\n",
       "    <tr>\n",
       "      <th>486</th>\n",
       "      <td>2088863726</td>\n",
       "      <td>2022-09-15 17:45:12</td>\n",
       "      <td>대상</td>\n",
       "      <td>2</td>\n",
       "      <td>이어 \"양도소득세의 경우에도 해당 수익증권은 자본시장법에 따른 수익증권으로 보고, ...</td>\n",
       "      <td>NaN</td>\n",
       "      <td>채권자가 신탁해지금지 가처분을 신청하는 등 임차인의 전세보증금을 보장할 수 없는 상...</td>\n",
       "      <td>NaN</td>\n",
       "    </tr>\n",
       "    <tr>\n",
       "      <th>487</th>\n",
       "      <td>2088863726</td>\n",
       "      <td>2022-09-15 17:45:12</td>\n",
       "      <td>대상</td>\n",
       "      <td>3</td>\n",
       "      <td>현재 주식 양도세 납부 대상인 대주주(종목당 10억원·일정 지분 이상 보유) 역시 ...</td>\n",
       "      <td>NaN</td>\n",
       "      <td>[정부가:ORG-B] 저출산 종합 대책을 처음 마련한 2006년만 해도 지원 [대상...</td>\n",
       "      <td>NaN</td>\n",
       "    </tr>\n",
       "    <tr>\n",
       "      <th>488</th>\n",
       "      <td>2128527838</td>\n",
       "      <td>2022-09-16 10:15:01</td>\n",
       "      <td>남성</td>\n",
       "      <td>1</td>\n",
       "      <td>채권자가 신탁해지금지 가처분을 신청하는 등 임차인의 전세보증금을 보장할 수 없는 상...</td>\n",
       "      <td>NaN</td>\n",
       "      <td>○예산 21배 늘었지만 출산율 뚝정부가 영유아와 자녀양육가구 외에 전 국민을 저출산...</td>\n",
       "      <td>NaN</td>\n",
       "    </tr>\n",
       "    <tr>\n",
       "      <th>489</th>\n",
       "      <td>2137884111</td>\n",
       "      <td>2022-10-05 18:31:01</td>\n",
       "      <td>대상</td>\n",
       "      <td>1</td>\n",
       "      <td>정부가 저출산 종합 대책을 처음 마련한 2006년만 해도 지원 대상은 영유아와 자녀...</td>\n",
       "      <td>NaN</td>\n",
       "      <td>NaN</td>\n",
       "      <td>NaN</td>\n",
       "    </tr>\n",
       "    <tr>\n",
       "      <th>490</th>\n",
       "      <td>2137884111</td>\n",
       "      <td>2022-10-05 18:31:01</td>\n",
       "      <td>대상</td>\n",
       "      <td>2</td>\n",
       "      <td>○예산 21배 늘었지만 출산율 뚝정부가 영유아와 자녀양육가구 외에 전 국민을 저출산...</td>\n",
       "      <td>NaN</td>\n",
       "      <td>NaN</td>\n",
       "      <td>NaN</td>\n",
       "    </tr>\n",
       "  </tbody>\n",
       "</table>\n",
       "<p>491 rows × 8 columns</p>\n",
       "</div>"
      ],
      "text/plain": [
       "        NEWS_ID              STD_DT COMPANY  SENTENCE_ID  \\\n",
       "0      24798108 2022-09-14 21:07:01      남성            1   \n",
       "1      24798108 2022-09-14 21:07:01      남성            2   \n",
       "2      26857617 2022-10-12 14:21:09      보령            1   \n",
       "3      26857617 2022-10-12 14:21:09      보령            2   \n",
       "4      26857617 2022-10-12 14:21:09      보령            3   \n",
       "..          ...                 ...     ...          ...   \n",
       "486  2088863726 2022-09-15 17:45:12      대상            2   \n",
       "487  2088863726 2022-09-15 17:45:12      대상            3   \n",
       "488  2128527838 2022-09-16 10:15:01      남성            1   \n",
       "489  2137884111 2022-10-05 18:31:01      대상            1   \n",
       "490  2137884111 2022-10-05 18:31:01      대상            2   \n",
       "\n",
       "                                         SENTENCE_TEXT  SENTIMENT LABEL  \\\n",
       "0                 여장을 하고 여자 목욕탕에 들어간 20대 남성이 경찰에 붙잡혔다.              NaN   \n",
       "1    14일 경찰에 따르면 연수경찰서는 성폭력범죄의 처벌 등에 관한 특례법상 성적 목적을...              NaN   \n",
       "2               17년 연속 매출 성장세를 이어가는 보령이 추가 성장동력을 마련했다.              NaN   \n",
       "3                        관건은 보령의 토종신약 '카나브'의 내년 특허만료다.              NaN   \n",
       "4    보령은 다양한 성분을 섞은 복합제 제품군을 늘려 카나브의 경쟁력을 끌어올리는 방식으...              NaN   \n",
       "..                                                 ...              ...   \n",
       "486  이어 \"양도소득세의 경우에도 해당 수익증권은 자본시장법에 따른 수익증권으로 보고, ...              NaN   \n",
       "487  현재 주식 양도세 납부 대상인 대주주(종목당 10억원·일정 지분 이상 보유) 역시 ...              NaN   \n",
       "488  채권자가 신탁해지금지 가처분을 신청하는 등 임차인의 전세보증금을 보장할 수 없는 상...              NaN   \n",
       "489  정부가 저출산 종합 대책을 처음 마련한 2006년만 해도 지원 대상은 영유아와 자녀...              NaN   \n",
       "490  ○예산 21배 늘었지만 출산율 뚝정부가 영유아와 자녀양육가구 외에 전 국민을 저출산...              NaN   \n",
       "\n",
       "                                                   NER  fillter  \n",
       "0        여장을 하고 여자 목욕탕에 들어간 20대 [남성이:NRG-B] 경찰에 붙잡혔다.       NaN  \n",
       "1    14일 경찰에 따르면 연수경찰서는 성폭력범죄의 처벌 등에 관한 특례법상 성적 목적을...      NaN  \n",
       "2      17년 연속 매출 성장세를 이어가는 [보령이:ORG-B] 추가 성장동력을 마련했다.       NaN  \n",
       "3       관건은 [보령의:ORG-B] 토종신약 ['카나브'의:PDT-B] 내년 특허만료다.       NaN  \n",
       "4    [보령은:ORG-B] 다양한 성분을 섞은 복합제 제품군을 늘려 카나브의 경쟁력을 끌...      NaN  \n",
       "..                                                 ...      ...  \n",
       "486  채권자가 신탁해지금지 가처분을 신청하는 등 임차인의 전세보증금을 보장할 수 없는 상...      NaN  \n",
       "487  [정부가:ORG-B] 저출산 종합 대책을 처음 마련한 2006년만 해도 지원 [대상...      NaN  \n",
       "488  ○예산 21배 늘었지만 출산율 뚝정부가 영유아와 자녀양육가구 외에 전 국민을 저출산...      NaN  \n",
       "489                                                NaN      NaN  \n",
       "490                                                NaN      NaN  \n",
       "\n",
       "[491 rows x 8 columns]"
      ]
     },
     "execution_count": 39,
     "metadata": {},
     "output_type": "execute_result"
    }
   ],
   "source": [
    "df"
   ]
  },
  {
   "cell_type": "code",
   "execution_count": 34,
   "id": "2786c435",
   "metadata": {},
   "outputs": [
    {
     "data": {
      "text/plain": [
       "'여'"
      ]
     },
     "execution_count": 34,
     "metadata": {},
     "output_type": "execute_result"
    }
   ],
   "source": [
    "df['SENTENCE_TEXT'].iloc[0]"
   ]
  },
  {
   "cell_type": "code",
   "execution_count": 35,
   "id": "97cb333f",
   "metadata": {},
   "outputs": [
    {
     "data": {
      "text/plain": [
       "'여'"
      ]
     },
     "execution_count": 35,
     "metadata": {},
     "output_type": "execute_result"
    }
   ],
   "source": [
    "df['NER'].iloc[0][0]"
   ]
  },
  {
   "cell_type": "code",
   "execution_count": 48,
   "id": "efbbb705",
   "metadata": {},
   "outputs": [
    {
     "name": "stdout",
     "output_type": "stream",
     "text": [
      "0\n"
     ]
    }
   ],
   "source": [
    "for i in range(len(df)):\n",
    "    if df['SENTENCE_TEXT'].iloc[i][] != df['NER'].iloc[i][-1]:\n",
    "        print(i)\n",
    "        break"
   ]
  },
  {
   "cell_type": "code",
   "execution_count": 44,
   "id": "185c06d6",
   "metadata": {},
   "outputs": [
    {
     "data": {
      "text/plain": [
       "'보령은 다양한 성분을 섞은 복합제 제품군을 늘려 카나브의 경쟁력을 끌어올리는 방식으로 추후 특허 만료후 본격화될 복제약(제네릭) 대응을 준비 중이다.'"
      ]
     },
     "execution_count": 44,
     "metadata": {},
     "output_type": "execute_result"
    }
   ],
   "source": [
    "df['SENTENCE_TEXT'].iloc[4]"
   ]
  },
  {
   "cell_type": "code",
   "execution_count": 46,
   "id": "bfaf00a5",
   "metadata": {},
   "outputs": [
    {
     "data": {
      "text/plain": [
       "'['"
      ]
     },
     "execution_count": 46,
     "metadata": {},
     "output_type": "execute_result"
    }
   ],
   "source": [
    "df['NER'].iloc[4][0]"
   ]
  },
  {
   "cell_type": "code",
   "execution_count": null,
   "id": "6451df53",
   "metadata": {},
   "outputs": [],
   "source": []
  }
 ],
 "metadata": {
  "kernelspec": {
   "display_name": "Python 3 (ipykernel)",
   "language": "python",
   "name": "python3"
  },
  "language_info": {
   "codemirror_mode": {
    "name": "ipython",
    "version": 3
   },
   "file_extension": ".py",
   "mimetype": "text/x-python",
   "name": "python",
   "nbconvert_exporter": "python",
   "pygments_lexer": "ipython3",
   "version": "3.9.12"
  },
  "toc": {
   "base_numbering": 1,
   "nav_menu": {},
   "number_sections": true,
   "sideBar": true,
   "skip_h1_title": false,
   "title_cell": "Table of Contents",
   "title_sidebar": "Contents",
   "toc_cell": false,
   "toc_position": {},
   "toc_section_display": true,
   "toc_window_display": false
  }
 },
 "nbformat": 4,
 "nbformat_minor": 5
}
